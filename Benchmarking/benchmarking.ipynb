{
 "cells": [
  {
   "cell_type": "code",
   "execution_count": 1,
   "metadata": {},
   "outputs": [],
   "source": [
    "import pandas as pd\n",
    "import numpy as np\n",
    "import xgboost as xgb\n",
    "import matplotlib.pyplot as plt\n",
    "from sklearn.metrics import confusion_matrix, ConfusionMatrixDisplay\n",
    "\n",
    "# benchmark class\n",
    "from benchmark import ChurnBinaryBenchmark, ChurnProbaBenchmark\n",
    "\n",
    "# models\n",
    "from benchmark import BinaryMean, SimpleXbg, MajorityClass, SimpleKNN\n",
    "from benchmark import SimpleXbgProba, RandomOrdered\n",
    "\n",
    "# metrics\n",
    "from benchmark import tp, fp, tn, fn\n",
    "from sklearn.metrics import f1_score, precision_score, recall_score\n",
    "from sklearn.metrics import roc_auc_score, log_loss"
   ]
  },
  {
   "cell_type": "markdown",
   "metadata": {},
   "source": [
    "## Data import"
   ]
  },
  {
   "cell_type": "code",
   "execution_count": 2,
   "metadata": {},
   "outputs": [],
   "source": [
    "df_churn = pd.read_csv('data/Churn_Modelling.csv')\n",
    "df_churn = df_churn.rename(columns={'Exited':'y'})\n",
    "df_train, df_test = df_churn.iloc[:8000,:],  df_churn.iloc[8000:,:] # train/test split"
   ]
  },
  {
   "cell_type": "markdown",
   "metadata": {},
   "source": [
    "## Building business specific benchmarks"
   ]
  },
  {
   "cell_type": "code",
   "execution_count": 3,
   "metadata": {},
   "outputs": [],
   "source": [
    "# Defining the business case specific benchmark\n",
    "class BusinessBenchmark():\n",
    "    @staticmethod\n",
    "    def run_benchmark(df_train, df_test):\n",
    "        df = df_test.copy()\n",
    "        df.loc[:,'y_hat'] = 0\n",
    "        df.loc[(df['IsActiveMember'] == 0) & (df['Age'] >= 50), 'y_hat'] = 1\n",
    "        return df['y_hat']\n",
    "\n",
    "# Defining the business case specific reference metric\n",
    "def financial_gain(y_true, y_pred):\n",
    "    return np.sum(np.logical_and(y_pred == 1, y_true == 1)) * 1000 - np.sum(np.logical_and(y_pred == 1, y_true == 0)) * 250\n",
    "\n",
    "binary_benchmark = ChurnBinaryBenchmark(\n",
    "    metrics=[f1_score, precision_score, recall_score, tp, tn, fp, fn, financial_gain],\n",
    "    benchmark_models=[BinaryMean, SimpleXbg, MajorityClass, SimpleKNN, BusinessBenchmark]\n",
    "    )"
   ]
  },
  {
   "cell_type": "markdown",
   "metadata": {},
   "source": [
    "# Making a prediction"
   ]
  },
  {
   "cell_type": "code",
   "execution_count": 4,
   "metadata": {},
   "outputs": [],
   "source": [
    "df_train_model, df_test_model = df_train.copy(), df_test.copy()\n",
    "\n",
    "# FE \n",
    "df_train_model['IsActive_by_CreditCard'] = df_train_model['HasCrCard'] * df_train_model['IsActiveMember']\n",
    "df_train_model['Products_Per_Tenure'] =  df_train_model['Tenure'] / df_train_model['NumOfProducts']\n",
    "df_test_model['IsActive_by_CreditCard'] = df_test_model['HasCrCard'] * df_test_model['IsActiveMember']\n",
    "df_test_model['Products_Per_Tenure'] =  df_test_model['Tenure'] / df_test_model['NumOfProducts']\n",
    "\n",
    "mapping_geo = df_train_model.groupby('Geography')['y'].mean()\n",
    "mapping_gender = df_train_model.groupby('Gender')['y'].mean()\n",
    "\n",
    "df_train_model['geo'] = df_train_model['Geography'].map(mapping_geo)\n",
    "df_train_model['gender'] = df_train_model['Gender'].map(mapping_gender)\n",
    "df_test_model['geo'] = df_test_model['Geography'].map(mapping_geo)\n",
    "df_test_model['gender'] = df_test_model['Gender'].map(mapping_gender)\n",
    "\n",
    "\n",
    "# XGB \n",
    "model = xgb.XGBClassifier(\n",
    "    **{ 'n_estimators': 90,\n",
    "        'max_depth': 3,\n",
    "        'min_child_weight': 4,\n",
    "        'learning_rate': 0.087,\n",
    "        'subsample': 0.67,\n",
    "        'colsample_bytree': 0.5}\n",
    " )\n",
    "\n",
    "features = [\n",
    "    'CreditScore', \n",
    "    'Age', \n",
    "    'Tenure', \n",
    "    'Balance', \n",
    "    'NumOfProducts', \n",
    "    'HasCrCard', \n",
    "    'IsActiveMember', \n",
    "    'EstimatedSalary', \n",
    "    'IsActive_by_CreditCard', \n",
    "    'Products_Per_Tenure', \n",
    "    'geo', \n",
    "    'gender'\n",
    "    ]\n",
    "target = ['y']\n",
    "\n",
    "# Fit\n",
    "model.fit(df_train_model[features], df_train_model[target])\n",
    "\n",
    "# Predict\n",
    "preds = model.predict(df_test_model[features])\n",
    "preds_proba = model.predict_proba(df_test_model[features])"
   ]
  },
  {
   "cell_type": "markdown",
   "metadata": {},
   "source": [
    "# Benchmark"
   ]
  },
  {
   "cell_type": "code",
   "execution_count": null,
   "metadata": {},
   "outputs": [],
   "source": [
    "res = binary_benchmark.compare_pred_with_benchmark(\n",
    "    df_train=df_train,\n",
    "    df_test=df_test,\n",
    "    my_predictions=preds\n",
    ")\n",
    "\n",
    "pd.DataFrame(res)"
   ]
  },
  {
   "cell_type": "code",
   "execution_count": null,
   "metadata": {},
   "outputs": [],
   "source": [
    "res = binary_benchmark.compare_pred_with_benchmark(\n",
    "    df_train=df_train,\n",
    "    df_test=df_test,\n",
    "    my_predictions=preds,\n",
    ")\n",
    "\n",
    "pd.DataFrame(res)"
   ]
  },
  {
   "cell_type": "markdown",
   "metadata": {},
   "source": [
    "# Using a continuous target variable"
   ]
  },
  {
   "cell_type": "code",
   "execution_count": null,
   "metadata": {},
   "outputs": [],
   "source": [
    "proba_benchmark = ChurnProbaBenchmark(\n",
    "    metrics=[roc_auc_score, log_loss],\n",
    "    benchmark_models= [SimpleXbgProba, RandomOrdered, BusinessBenchmark]\n",
    "    )\n",
    "\n",
    "res = proba_benchmark.compare_pred_with_benchmark(\n",
    "    df_train=df_train,\n",
    "    df_test=df_test,\n",
    "    my_predictions=[x[1] for x in preds_proba],\n",
    "    plots=True\n",
    ")\n",
    "\n",
    "pd.DataFrame(res)"
   ]
  }
 ],
 "metadata": {
  "kernelspec": {
   "display_name": "Python 3",
   "language": "python",
   "name": "python3"
  },
  "language_info": {
   "codemirror_mode": {
    "name": "ipython",
    "version": 3
   },
   "file_extension": ".py",
   "mimetype": "text/x-python",
   "name": "python",
   "nbconvert_exporter": "python",
   "pygments_lexer": "ipython3",
   "version": "3.12.3"
  }
 },
 "nbformat": 4,
 "nbformat_minor": 2
}
