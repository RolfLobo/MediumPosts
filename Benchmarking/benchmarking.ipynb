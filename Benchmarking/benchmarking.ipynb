{
 "cells": [
  {
   "cell_type": "code",
   "execution_count": 1,
   "metadata": {},
   "outputs": [],
   "source": [
    "import pandas as pd\n",
    "import numpy as np\n",
    "import xgboost as xgb\n",
    "import matplotlib.pyplot as plt\n",
    "from sklearn.metrics import confusion_matrix, ConfusionMatrixDisplay\n",
    "\n",
    "# benchmark class\n",
    "from benchmark import ChurnBinaryBenchmark, ChurnProbaBenchmark\n",
    "\n",
    "# models\n",
    "from benchmark import BinaryMean, SimpleXbg, MajorityClass, SimpleKNN\n",
    "from benchmark import SimpleXbgProba, RandomOrdered\n",
    "\n",
    "# metrics\n",
    "from benchmark import tp, fp, tn, fn\n",
    "from sklearn.metrics import f1_score, precision_score, recall_score\n",
    "from sklearn.metrics import roc_auc_score, log_loss"
   ]
  },
  {
   "cell_type": "markdown",
   "metadata": {},
   "source": [
    "## Data import"
   ]
  },
  {
   "cell_type": "code",
   "execution_count": 2,
   "metadata": {},
   "outputs": [],
   "source": [
    "df_churn = pd.read_csv('data/Churn_Modelling.csv')\n",
    "df_churn = df_churn.rename(columns={'Exited':'y'})\n",
    "df_train, df_test = df_churn.iloc[:8000,:],  df_churn.iloc[8000:,:] # train/test split"
   ]
  },
  {
   "cell_type": "markdown",
   "metadata": {},
   "source": [
    "## Building business specific benchmarks"
   ]
  },
  {
   "cell_type": "code",
   "execution_count": 3,
   "metadata": {},
   "outputs": [],
   "source": [
    "# Defining the business case specific benchmark\n",
    "class BusinessBenchmark():\n",
    "    @staticmethod\n",
    "    def run_benchmark(df_train, df_test):\n",
    "        df = df_test.copy()\n",
    "        df.loc[:,'y_hat'] = 0\n",
    "        df.loc[(df['IsActiveMember'] == 0) & (df['Age'] >= 50), 'y_hat'] = 1\n",
    "        return df['y_hat']\n",
    "\n",
    "# Defining the business case specific reference metric\n",
    "def financial_gain(y_true, y_pred):\n",
    "    return np.sum(np.logical_and(y_pred == 1, y_true == 1)) * 1000 - np.sum(np.logical_and(y_pred == 1, y_true == 0)) * 250\n",
    "\n",
    "binary_benchmark = ChurnBinaryBenchmark(\n",
    "    metrics=[f1_score, precision_score, recall_score, tp, tn, fp, fn, financial_gain],\n",
    "    benchmark_models=[BinaryMean, SimpleXbg, MajorityClass, SimpleKNN, BusinessBenchmark]\n",
    "    )"
   ]
  },
  {
   "cell_type": "markdown",
   "metadata": {},
   "source": [
    "# Making a prediction"
   ]
  },
  {
   "cell_type": "code",
   "execution_count": 4,
   "metadata": {},
   "outputs": [],
   "source": [
    "df_train_model, df_test_model = df_train.copy(), df_test.copy()\n",
    "\n",
    "# FE \n",
    "df_train_model['IsActive_by_CreditCard'] = df_train_model['HasCrCard'] * df_train_model['IsActiveMember']\n",
    "df_train_model['Products_Per_Tenure'] =  df_train_model['Tenure'] / df_train_model['NumOfProducts']\n",
    "df_test_model['IsActive_by_CreditCard'] = df_test_model['HasCrCard'] * df_test_model['IsActiveMember']\n",
    "df_test_model['Products_Per_Tenure'] =  df_test_model['Tenure'] / df_test_model['NumOfProducts']\n",
    "\n",
    "mapping_geo = df_train_model.groupby('Geography')['y'].mean()\n",
    "mapping_gender = df_train_model.groupby('Gender')['y'].mean()\n",
    "\n",
    "df_train_model['geo'] = df_train_model['Geography'].map(mapping_geo)\n",
    "df_train_model['gender'] = df_train_model['Gender'].map(mapping_gender)\n",
    "df_test_model['geo'] = df_test_model['Geography'].map(mapping_geo)\n",
    "df_test_model['gender'] = df_test_model['Gender'].map(mapping_gender)\n",
    "\n",
    "\n",
    "# XGB \n",
    "model = xgb.XGBClassifier(\n",
    "    **{ 'n_estimators': 90,\n",
    "        'max_depth': 3,\n",
    "        'min_child_weight': 4,\n",
    "        'learning_rate': 0.087,\n",
    "        'subsample': 0.67,\n",
    "        'colsample_bytree': 0.5}\n",
    " )\n",
    "\n",
    "features = [\n",
    "    'CreditScore', \n",
    "    'Age', \n",
    "    'Tenure', \n",
    "    'Balance', \n",
    "    'NumOfProducts', \n",
    "    'HasCrCard', \n",
    "    'IsActiveMember', \n",
    "    'EstimatedSalary', \n",
    "    'IsActive_by_CreditCard', \n",
    "    'Products_Per_Tenure', \n",
    "    'geo', \n",
    "    'gender'\n",
    "    ]\n",
    "target = ['y']\n",
    "\n",
    "# Fit\n",
    "model.fit(df_train_model[features], df_train_model[target])\n",
    "\n",
    "# Predict\n",
    "preds = model.predict(df_test_model[features])\n",
    "preds_proba = model.predict_proba(df_test_model[features])"
   ]
  },
  {
   "cell_type": "markdown",
   "metadata": {},
   "source": [
    "# Benchmark"
   ]
  },
  {
   "cell_type": "code",
   "execution_count": 5,
   "metadata": {},
   "outputs": [
    {
     "name": "stderr",
     "output_type": "stream",
     "text": [
      "c:\\Users\\mezzini\\AppData\\Local\\Programs\\Python\\Python312\\Lib\\site-packages\\sklearn\\metrics\\_classification.py:1509: UndefinedMetricWarning: Precision is ill-defined and being set to 0.0 due to no predicted samples. Use `zero_division` parameter to control this behavior.\n",
      "  _warn_prf(average, modifier, f\"{metric.capitalize()} is\", len(result))\n"
     ]
    },
    {
     "data": {
      "application/vnd.microsoft.datawrangler.viewer.v0+json": {
       "columns": [
        {
         "name": "index",
         "rawType": "object",
         "type": "string"
        },
        {
         "name": "Prediction",
         "rawType": "float64",
         "type": "float"
        },
        {
         "name": "Benchmark - BinaryMean",
         "rawType": "float64",
         "type": "float"
        },
        {
         "name": "Benchmark - SimpleXbg",
         "rawType": "float64",
         "type": "float"
        },
        {
         "name": "Benchmark - MajorityClass",
         "rawType": "float64",
         "type": "float"
        },
        {
         "name": "Benchmark - SimpleKNN",
         "rawType": "float64",
         "type": "float"
        },
        {
         "name": "Benchmark - BusinessBenchmark",
         "rawType": "float64",
         "type": "float"
        }
       ],
       "conversionMethod": "pd.DataFrame",
       "ref": "454548ff-31df-4bf9-a08a-fcccc29db70f",
       "rows": [
        [
         "f1_score",
         "0.5374592833876222",
         "0.18523153942428036",
         "0.47715736040609136",
         "0.0",
         "0.09961685823754789",
         "0.294478527607362"
        ],
        [
         "precision_score",
         "0.7366071428571429",
         "0.18092909535452323",
         "0.7014925373134329",
         "0.0",
         "0.19696969696969696",
         "0.7272727272727273"
        ],
        [
         "recall_score",
         "0.4230769230769231",
         "0.18974358974358974",
         "0.36153846153846153",
         "0.0",
         "0.06666666666666667",
         "0.18461538461538463"
        ],
        [
         "tp",
         "165.0",
         "74.0",
         "141.0",
         "0.0",
         "26.0",
         "72.0"
        ],
        [
         "tn",
         "1551.0",
         "1275.0",
         "1550.0",
         "1610.0",
         "1504.0",
         "1583.0"
        ],
        [
         "fp",
         "59.0",
         "335.0",
         "60.0",
         "0.0",
         "106.0",
         "27.0"
        ],
        [
         "fn",
         "225.0",
         "316.0",
         "249.0",
         "390.0",
         "364.0",
         "318.0"
        ],
        [
         "financial_gain",
         "150250.0",
         "-9750.0",
         "126000.0",
         "0.0",
         "-500.0",
         "65250.0"
        ]
       ],
       "shape": {
        "columns": 6,
        "rows": 8
       }
      },
      "text/html": [
       "<div>\n",
       "<style scoped>\n",
       "    .dataframe tbody tr th:only-of-type {\n",
       "        vertical-align: middle;\n",
       "    }\n",
       "\n",
       "    .dataframe tbody tr th {\n",
       "        vertical-align: top;\n",
       "    }\n",
       "\n",
       "    .dataframe thead th {\n",
       "        text-align: right;\n",
       "    }\n",
       "</style>\n",
       "<table border=\"1\" class=\"dataframe\">\n",
       "  <thead>\n",
       "    <tr style=\"text-align: right;\">\n",
       "      <th></th>\n",
       "      <th>Prediction</th>\n",
       "      <th>Benchmark - BinaryMean</th>\n",
       "      <th>Benchmark - SimpleXbg</th>\n",
       "      <th>Benchmark - MajorityClass</th>\n",
       "      <th>Benchmark - SimpleKNN</th>\n",
       "      <th>Benchmark - BusinessBenchmark</th>\n",
       "    </tr>\n",
       "  </thead>\n",
       "  <tbody>\n",
       "    <tr>\n",
       "      <th>f1_score</th>\n",
       "      <td>0.537459</td>\n",
       "      <td>0.185232</td>\n",
       "      <td>0.477157</td>\n",
       "      <td>0.0</td>\n",
       "      <td>0.099617</td>\n",
       "      <td>0.294479</td>\n",
       "    </tr>\n",
       "    <tr>\n",
       "      <th>precision_score</th>\n",
       "      <td>0.736607</td>\n",
       "      <td>0.180929</td>\n",
       "      <td>0.701493</td>\n",
       "      <td>0.0</td>\n",
       "      <td>0.196970</td>\n",
       "      <td>0.727273</td>\n",
       "    </tr>\n",
       "    <tr>\n",
       "      <th>recall_score</th>\n",
       "      <td>0.423077</td>\n",
       "      <td>0.189744</td>\n",
       "      <td>0.361538</td>\n",
       "      <td>0.0</td>\n",
       "      <td>0.066667</td>\n",
       "      <td>0.184615</td>\n",
       "    </tr>\n",
       "    <tr>\n",
       "      <th>tp</th>\n",
       "      <td>165.000000</td>\n",
       "      <td>74.000000</td>\n",
       "      <td>141.000000</td>\n",
       "      <td>0.0</td>\n",
       "      <td>26.000000</td>\n",
       "      <td>72.000000</td>\n",
       "    </tr>\n",
       "    <tr>\n",
       "      <th>tn</th>\n",
       "      <td>1551.000000</td>\n",
       "      <td>1275.000000</td>\n",
       "      <td>1550.000000</td>\n",
       "      <td>1610.0</td>\n",
       "      <td>1504.000000</td>\n",
       "      <td>1583.000000</td>\n",
       "    </tr>\n",
       "    <tr>\n",
       "      <th>fp</th>\n",
       "      <td>59.000000</td>\n",
       "      <td>335.000000</td>\n",
       "      <td>60.000000</td>\n",
       "      <td>0.0</td>\n",
       "      <td>106.000000</td>\n",
       "      <td>27.000000</td>\n",
       "    </tr>\n",
       "    <tr>\n",
       "      <th>fn</th>\n",
       "      <td>225.000000</td>\n",
       "      <td>316.000000</td>\n",
       "      <td>249.000000</td>\n",
       "      <td>390.0</td>\n",
       "      <td>364.000000</td>\n",
       "      <td>318.000000</td>\n",
       "    </tr>\n",
       "    <tr>\n",
       "      <th>financial_gain</th>\n",
       "      <td>150250.000000</td>\n",
       "      <td>-9750.000000</td>\n",
       "      <td>126000.000000</td>\n",
       "      <td>0.0</td>\n",
       "      <td>-500.000000</td>\n",
       "      <td>65250.000000</td>\n",
       "    </tr>\n",
       "  </tbody>\n",
       "</table>\n",
       "</div>"
      ],
      "text/plain": [
       "                    Prediction  Benchmark - BinaryMean  Benchmark - SimpleXbg  \\\n",
       "f1_score              0.537459                0.185232               0.477157   \n",
       "precision_score       0.736607                0.180929               0.701493   \n",
       "recall_score          0.423077                0.189744               0.361538   \n",
       "tp                  165.000000               74.000000             141.000000   \n",
       "tn                 1551.000000             1275.000000            1550.000000   \n",
       "fp                   59.000000              335.000000              60.000000   \n",
       "fn                  225.000000              316.000000             249.000000   \n",
       "financial_gain   150250.000000            -9750.000000          126000.000000   \n",
       "\n",
       "                 Benchmark - MajorityClass  Benchmark - SimpleKNN  \\\n",
       "f1_score                               0.0               0.099617   \n",
       "precision_score                        0.0               0.196970   \n",
       "recall_score                           0.0               0.066667   \n",
       "tp                                     0.0              26.000000   \n",
       "tn                                  1610.0            1504.000000   \n",
       "fp                                     0.0             106.000000   \n",
       "fn                                   390.0             364.000000   \n",
       "financial_gain                         0.0            -500.000000   \n",
       "\n",
       "                 Benchmark - BusinessBenchmark  \n",
       "f1_score                              0.294479  \n",
       "precision_score                       0.727273  \n",
       "recall_score                          0.184615  \n",
       "tp                                   72.000000  \n",
       "tn                                 1583.000000  \n",
       "fp                                   27.000000  \n",
       "fn                                  318.000000  \n",
       "financial_gain                    65250.000000  "
      ]
     },
     "execution_count": 5,
     "metadata": {},
     "output_type": "execute_result"
    }
   ],
   "source": [
    "res = binary_benchmark.compare_pred_with_benchmark(\n",
    "    df_train=df_train,\n",
    "    df_test=df_test,\n",
    "    my_predictions=preds\n",
    ")\n",
    "\n",
    "pd.DataFrame(res)"
   ]
  },
  {
   "cell_type": "code",
   "execution_count": 6,
   "metadata": {},
   "outputs": [
    {
     "name": "stderr",
     "output_type": "stream",
     "text": [
      "c:\\Users\\mezzini\\AppData\\Local\\Programs\\Python\\Python312\\Lib\\site-packages\\sklearn\\metrics\\_classification.py:1509: UndefinedMetricWarning: Precision is ill-defined and being set to 0.0 due to no predicted samples. Use `zero_division` parameter to control this behavior.\n",
      "  _warn_prf(average, modifier, f\"{metric.capitalize()} is\", len(result))\n"
     ]
    },
    {
     "data": {
      "application/vnd.microsoft.datawrangler.viewer.v0+json": {
       "columns": [
        {
         "name": "index",
         "rawType": "object",
         "type": "string"
        },
        {
         "name": "Prediction",
         "rawType": "float64",
         "type": "float"
        },
        {
         "name": "Benchmark - BinaryMean",
         "rawType": "float64",
         "type": "float"
        },
        {
         "name": "Benchmark - SimpleXbg",
         "rawType": "float64",
         "type": "float"
        },
        {
         "name": "Benchmark - MajorityClass",
         "rawType": "float64",
         "type": "float"
        },
        {
         "name": "Benchmark - SimpleKNN",
         "rawType": "float64",
         "type": "float"
        },
        {
         "name": "Benchmark - BusinessBenchmark",
         "rawType": "float64",
         "type": "float"
        }
       ],
       "conversionMethod": "pd.DataFrame",
       "ref": "fa066ddd-a49f-4a74-980c-5ad5783337b3",
       "rows": [
        [
         "f1_score",
         "0.5374592833876222",
         "0.18523153942428036",
         "0.47715736040609136",
         "0.0",
         "0.09961685823754789",
         "0.294478527607362"
        ],
        [
         "precision_score",
         "0.7366071428571429",
         "0.18092909535452323",
         "0.7014925373134329",
         "0.0",
         "0.19696969696969696",
         "0.7272727272727273"
        ],
        [
         "recall_score",
         "0.4230769230769231",
         "0.18974358974358974",
         "0.36153846153846153",
         "0.0",
         "0.06666666666666667",
         "0.18461538461538463"
        ],
        [
         "tp",
         "165.0",
         "74.0",
         "141.0",
         "0.0",
         "26.0",
         "72.0"
        ],
        [
         "tn",
         "1551.0",
         "1275.0",
         "1550.0",
         "1610.0",
         "1504.0",
         "1583.0"
        ],
        [
         "fp",
         "59.0",
         "335.0",
         "60.0",
         "0.0",
         "106.0",
         "27.0"
        ],
        [
         "fn",
         "225.0",
         "316.0",
         "249.0",
         "390.0",
         "364.0",
         "318.0"
        ],
        [
         "financial_gain",
         "150250.0",
         "-9750.0",
         "126000.0",
         "0.0",
         "-500.0",
         "65250.0"
        ]
       ],
       "shape": {
        "columns": 6,
        "rows": 8
       }
      },
      "text/html": [
       "<div>\n",
       "<style scoped>\n",
       "    .dataframe tbody tr th:only-of-type {\n",
       "        vertical-align: middle;\n",
       "    }\n",
       "\n",
       "    .dataframe tbody tr th {\n",
       "        vertical-align: top;\n",
       "    }\n",
       "\n",
       "    .dataframe thead th {\n",
       "        text-align: right;\n",
       "    }\n",
       "</style>\n",
       "<table border=\"1\" class=\"dataframe\">\n",
       "  <thead>\n",
       "    <tr style=\"text-align: right;\">\n",
       "      <th></th>\n",
       "      <th>Prediction</th>\n",
       "      <th>Benchmark - BinaryMean</th>\n",
       "      <th>Benchmark - SimpleXbg</th>\n",
       "      <th>Benchmark - MajorityClass</th>\n",
       "      <th>Benchmark - SimpleKNN</th>\n",
       "      <th>Benchmark - BusinessBenchmark</th>\n",
       "    </tr>\n",
       "  </thead>\n",
       "  <tbody>\n",
       "    <tr>\n",
       "      <th>f1_score</th>\n",
       "      <td>0.537459</td>\n",
       "      <td>0.185232</td>\n",
       "      <td>0.477157</td>\n",
       "      <td>0.0</td>\n",
       "      <td>0.099617</td>\n",
       "      <td>0.294479</td>\n",
       "    </tr>\n",
       "    <tr>\n",
       "      <th>precision_score</th>\n",
       "      <td>0.736607</td>\n",
       "      <td>0.180929</td>\n",
       "      <td>0.701493</td>\n",
       "      <td>0.0</td>\n",
       "      <td>0.196970</td>\n",
       "      <td>0.727273</td>\n",
       "    </tr>\n",
       "    <tr>\n",
       "      <th>recall_score</th>\n",
       "      <td>0.423077</td>\n",
       "      <td>0.189744</td>\n",
       "      <td>0.361538</td>\n",
       "      <td>0.0</td>\n",
       "      <td>0.066667</td>\n",
       "      <td>0.184615</td>\n",
       "    </tr>\n",
       "    <tr>\n",
       "      <th>tp</th>\n",
       "      <td>165.000000</td>\n",
       "      <td>74.000000</td>\n",
       "      <td>141.000000</td>\n",
       "      <td>0.0</td>\n",
       "      <td>26.000000</td>\n",
       "      <td>72.000000</td>\n",
       "    </tr>\n",
       "    <tr>\n",
       "      <th>tn</th>\n",
       "      <td>1551.000000</td>\n",
       "      <td>1275.000000</td>\n",
       "      <td>1550.000000</td>\n",
       "      <td>1610.0</td>\n",
       "      <td>1504.000000</td>\n",
       "      <td>1583.000000</td>\n",
       "    </tr>\n",
       "    <tr>\n",
       "      <th>fp</th>\n",
       "      <td>59.000000</td>\n",
       "      <td>335.000000</td>\n",
       "      <td>60.000000</td>\n",
       "      <td>0.0</td>\n",
       "      <td>106.000000</td>\n",
       "      <td>27.000000</td>\n",
       "    </tr>\n",
       "    <tr>\n",
       "      <th>fn</th>\n",
       "      <td>225.000000</td>\n",
       "      <td>316.000000</td>\n",
       "      <td>249.000000</td>\n",
       "      <td>390.0</td>\n",
       "      <td>364.000000</td>\n",
       "      <td>318.000000</td>\n",
       "    </tr>\n",
       "    <tr>\n",
       "      <th>financial_gain</th>\n",
       "      <td>150250.000000</td>\n",
       "      <td>-9750.000000</td>\n",
       "      <td>126000.000000</td>\n",
       "      <td>0.0</td>\n",
       "      <td>-500.000000</td>\n",
       "      <td>65250.000000</td>\n",
       "    </tr>\n",
       "  </tbody>\n",
       "</table>\n",
       "</div>"
      ],
      "text/plain": [
       "                    Prediction  Benchmark - BinaryMean  Benchmark - SimpleXbg  \\\n",
       "f1_score              0.537459                0.185232               0.477157   \n",
       "precision_score       0.736607                0.180929               0.701493   \n",
       "recall_score          0.423077                0.189744               0.361538   \n",
       "tp                  165.000000               74.000000             141.000000   \n",
       "tn                 1551.000000             1275.000000            1550.000000   \n",
       "fp                   59.000000              335.000000              60.000000   \n",
       "fn                  225.000000              316.000000             249.000000   \n",
       "financial_gain   150250.000000            -9750.000000          126000.000000   \n",
       "\n",
       "                 Benchmark - MajorityClass  Benchmark - SimpleKNN  \\\n",
       "f1_score                               0.0               0.099617   \n",
       "precision_score                        0.0               0.196970   \n",
       "recall_score                           0.0               0.066667   \n",
       "tp                                     0.0              26.000000   \n",
       "tn                                  1610.0            1504.000000   \n",
       "fp                                     0.0             106.000000   \n",
       "fn                                   390.0             364.000000   \n",
       "financial_gain                         0.0            -500.000000   \n",
       "\n",
       "                 Benchmark - BusinessBenchmark  \n",
       "f1_score                              0.294479  \n",
       "precision_score                       0.727273  \n",
       "recall_score                          0.184615  \n",
       "tp                                   72.000000  \n",
       "tn                                 1583.000000  \n",
       "fp                                   27.000000  \n",
       "fn                                  318.000000  \n",
       "financial_gain                    65250.000000  "
      ]
     },
     "execution_count": 6,
     "metadata": {},
     "output_type": "execute_result"
    }
   ],
   "source": [
    "res = binary_benchmark.compare_pred_with_benchmark(\n",
    "    df_train=df_train,\n",
    "    df_test=df_test,\n",
    "    my_predictions=preds,\n",
    ")\n",
    "\n",
    "pd.DataFrame(res)"
   ]
  },
  {
   "cell_type": "markdown",
   "metadata": {},
   "source": [
    "# Using a continuous target variable"
   ]
  },
  {
   "cell_type": "code",
   "execution_count": 7,
   "metadata": {},
   "outputs": [
    {
     "data": {
      "application/vnd.microsoft.datawrangler.viewer.v0+json": {
       "columns": [
        {
         "name": "index",
         "rawType": "object",
         "type": "string"
        },
        {
         "name": "Prediction",
         "rawType": "float64",
         "type": "float"
        },
        {
         "name": "SimpleXbgProba",
         "rawType": "float64",
         "type": "float"
        },
        {
         "name": "RandomOrdered",
         "rawType": "float64",
         "type": "float"
        },
        {
         "name": "BusinessBenchmark",
         "rawType": "float64",
         "type": "float"
        }
       ],
       "conversionMethod": "pd.DataFrame",
       "ref": "724c24db-05a8-458d-97e5-0be25e9d4d13",
       "rows": [
        [
         "roc_auc_score",
         "0.8597595158464725",
         "0.8039241917502787",
         "0.4646743111960503",
         "0.5839225991399905"
        ],
        [
         "log_loss",
         "0.3388087826078829",
         "0.44889499317123643",
         "1.0289819339837964",
         "6.2175302096227085"
        ]
       ],
       "shape": {
        "columns": 4,
        "rows": 2
       }
      },
      "text/html": [
       "<div>\n",
       "<style scoped>\n",
       "    .dataframe tbody tr th:only-of-type {\n",
       "        vertical-align: middle;\n",
       "    }\n",
       "\n",
       "    .dataframe tbody tr th {\n",
       "        vertical-align: top;\n",
       "    }\n",
       "\n",
       "    .dataframe thead th {\n",
       "        text-align: right;\n",
       "    }\n",
       "</style>\n",
       "<table border=\"1\" class=\"dataframe\">\n",
       "  <thead>\n",
       "    <tr style=\"text-align: right;\">\n",
       "      <th></th>\n",
       "      <th>Prediction</th>\n",
       "      <th>SimpleXbgProba</th>\n",
       "      <th>RandomOrdered</th>\n",
       "      <th>BusinessBenchmark</th>\n",
       "    </tr>\n",
       "  </thead>\n",
       "  <tbody>\n",
       "    <tr>\n",
       "      <th>roc_auc_score</th>\n",
       "      <td>0.859760</td>\n",
       "      <td>0.803924</td>\n",
       "      <td>0.464674</td>\n",
       "      <td>0.583923</td>\n",
       "    </tr>\n",
       "    <tr>\n",
       "      <th>log_loss</th>\n",
       "      <td>0.338809</td>\n",
       "      <td>0.448895</td>\n",
       "      <td>1.028982</td>\n",
       "      <td>6.217530</td>\n",
       "    </tr>\n",
       "  </tbody>\n",
       "</table>\n",
       "</div>"
      ],
      "text/plain": [
       "               Prediction  SimpleXbgProba  RandomOrdered  BusinessBenchmark\n",
       "roc_auc_score    0.859760        0.803924       0.464674           0.583923\n",
       "log_loss         0.338809        0.448895       1.028982           6.217530"
      ]
     },
     "execution_count": 7,
     "metadata": {},
     "output_type": "execute_result"
    },
    {
     "data": {
      "image/png": "[encoded data removed]",
      "text/plain": [
       "<Figure size 640x480 with 1 Axes>"
      ]
     },
     "metadata": {},
     "output_type": "display_data"
    }
   ],
   "source": [
    "proba_benchmark = ChurnProbaBenchmark(\n",
    "    metrics=[roc_auc_score, log_loss],\n",
    "    benchmark_models= [SimpleXbgProba, RandomOrdered, BusinessBenchmark]\n",
    "    )\n",
    "\n",
    "res = proba_benchmark.compare_pred_with_benchmark(\n",
    "    df_train=df_train,\n",
    "    df_test=df_test,\n",
    "    my_predictions=[x[1] for x in preds_proba],\n",
    "    plots=True\n",
    ")\n",
    "\n",
    "pd.DataFrame(res)"
   ]
  }
 ],
 "metadata": {
  "kernelspec": {
   "display_name": "Python 3",
   "language": "python",
   "name": "python3"
  },
  "language_info": {
   "codemirror_mode": {
    "name": "ipython",
    "version": 3
   },
   "file_extension": ".py",
   "mimetype": "text/x-python",
   "name": "python",
   "nbconvert_exporter": "python",
   "pygments_lexer": "ipython3",
   "version": "3.12.3"
  }
 },
 "nbformat": 4,
 "nbformat_minor": 2
}
